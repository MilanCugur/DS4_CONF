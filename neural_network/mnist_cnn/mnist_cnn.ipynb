{
 "cells": [
  {
   "cell_type": "markdown",
   "metadata": {},
   "source": [
    "Trains a simple CNN on MINIST dataset.  \n",
    "Gets to 99.25% accuracy after 12 epoch.\n",
    "<img src='./conv.JPG'>"
   ]
  },
  {
   "cell_type": "code",
   "execution_count": null,
   "metadata": {},
   "outputs": [],
   "source": [
    "from matplotlib import pyplot as plt\n",
    "\n",
    "from keras.datasets import mnist\n",
    "from keras.models import Sequential\n",
    "from keras.layers import Dense, Activation, Dropout, Flatten\n",
    "from keras.layers import Conv2D, MaxPooling2D\n",
    "from keras.utils import to_categorical  # Dummy coding\n",
    "\n",
    "%matplotlib inline"
   ]
  },
  {
   "cell_type": "markdown",
   "metadata": {},
   "source": [
    "### Ucitavanje podataka  i pripremni koraci"
   ]
  },
  {
   "cell_type": "code",
   "execution_count": null,
   "metadata": {},
   "outputs": [],
   "source": [
    "(x_train, y_train), (x_test, y_test) = mnist.load_data()"
   ]
  },
  {
   "cell_type": "code",
   "execution_count": null,
   "metadata": {},
   "outputs": [],
   "source": [
    "# DEFINE\n",
    "batch_size = 120\n",
    "num_classes = 10\n",
    "epochs = 12"
   ]
  },
  {
   "cell_type": "code",
   "execution_count": null,
   "metadata": {},
   "outputs": [],
   "source": [
    "# RESHAPE\n",
    "x_train.shape  # (60000, 28, 28)\n",
    "x_test.shape   # (10000, 28, 28)\n",
    "# C:\\Users\\Milan Cugurovic\\.keras\\keras.JSON\n",
    "# {\n",
    "#    \"floatx\": \"float32\",\n",
    "#    \"epsilon\": 1e-07,\n",
    "#    \"backend\": \"tensorflow\",\n",
    "#    \"image_data_format\": \"channels_last\"\n",
    "# }\n",
    "# It specifies which data format convention Keras will follow\n",
    "# For 2D data (e.g. image), \"channels_last\" assumes (rows, cols, channels) while \n",
    "#                           \"channels_first\" assumes  (channels, rows, cols)\n",
    "x_train = x_train.reshape(x_train.shape[0], 28, 28, 1)\n",
    "x_test = x_test.reshape(x_test.shape[0], 28, 28, 1)\n",
    "input_shape = (28, 28, 1)\n",
    "\n",
    "x_train = x_train.astype('float32')\n",
    "x_test = x_test.astype('float32')\n",
    "x_train /= 255\n",
    "x_test /= 255\n",
    "\n",
    "x_train.shape  # (60000, 28, 28, 1)\n",
    "x_test.shape   # (10000, 28, 28, 1)\n",
    "x_train[0].shape  # (28, 28, 1)\n",
    "# x_train[0]"
   ]
  },
  {
   "cell_type": "markdown",
   "metadata": {},
   "source": [
    "<img src='./shape1.JPG' align='left' height='600' width='600'>\n",
    "<img src='./shape2.JPG' align='right' height='600' width='600'>"
   ]
  },
  {
   "cell_type": "code",
   "execution_count": null,
   "metadata": {},
   "outputs": [],
   "source": [
    "# CONVERT CLASS VECTORS (INTEGERS) TO BINARY CLASS MATRICES\n",
    "y_train.shape  # (60000,)\n",
    "y_train = to_categorical(y_train, num_classes)\n",
    "y_test = to_categorical(y_test, num_classes)\n",
    "y_train.shape  # (60000, 10)"
   ]
  },
  {
   "cell_type": "markdown",
   "metadata": {},
   "source": [
    "to_categorical --> one hot dummy coding\n",
    "<img src='to_categorical.JPG'>"
   ]
  },
  {
   "cell_type": "markdown",
   "metadata": {},
   "source": [
    "### Convolutional Neural Network (CNN)"
   ]
  },
  {
   "cell_type": "code",
   "execution_count": null,
   "metadata": {},
   "outputs": [],
   "source": [
    "r = Sequential()"
   ]
  },
  {
   "cell_type": "code",
   "execution_count": null,
   "metadata": {},
   "outputs": [],
   "source": [
    "r.add(Conv2D(filters=32, kernel_size=(3,3), activation='relu', input_shape=(28, 28, 1)))\n",
    "        # filters - Integer, the dimensionality of the output space\n",
    "        #           the number of output filters in the convolution\n",
    "        # kernel_size=(1,1) - height and width of the 2D convolution window\n",
    "        # activation - Activation function to use\n",
    "        # input_shape - When using this layer as the first layer in a model\n",
    "        #               input_shape=(128, 128, 3)` for 128x128 RGB pictures"
   ]
  },
  {
   "cell_type": "code",
   "execution_count": null,
   "metadata": {},
   "outputs": [],
   "source": [
    "r.add(Conv2D(filters=64, kernel_size=(3, 3), activation='relu'))\n",
    "        # Izlazi konvolutivnog sloja se transformisu nekom nelinearnom aktivacionom funkcijom\n",
    "        # Koliko shvatam ovde ucim kernele ! (tj. ucim te matrice - filtere tj kernele)"
   ]
  },
  {
   "cell_type": "code",
   "execution_count": null,
   "metadata": {},
   "outputs": [],
   "source": [
    "r.add(MaxPooling2D(pool_size=(2,2)))\n",
    "        # Input shape\n",
    "        # If `data_format='channels_last'`:\n",
    "        #     4D tensor with shape: `(batch_size, rows, cols, channels)`\n",
    "        # Output shape\n",
    "        # If `data_format='channels_last'`:\n",
    "        #     4D tensor with shape: `(batch_size, pooled_rows, pooled_cols, channels)`\n",
    "r.add(Dropout(0.25))\n",
    "        # Dropout consists in randomly setting\n",
    "        # a fraction `rate` of input units to 0 at each update during training time,\n",
    "        # which helps prevent overfitting."
   ]
  },
  {
   "cell_type": "code",
   "execution_count": null,
   "metadata": {},
   "outputs": [],
   "source": [
    "r.add(Flatten())\n",
    "        # \n",
    "        # model = Sequential()\n",
    "        # model.add(Conv2D(64, (3, 3),\n",
    "        #           input_shape=(3, 32, 32), padding='same',))\n",
    "        # now: model.output_shape == (None, 64, 32, 32)\n",
    "        # model.add(Flatten())\n",
    "        # now: model.output_shape == (None, 65536)"
   ]
  },
  {
   "cell_type": "code",
   "execution_count": null,
   "metadata": {},
   "outputs": [],
   "source": [
    "r.add(Dense(units=128, activation='relu'))\n",
    "r.add(Dropout(0.5))"
   ]
  },
  {
   "cell_type": "code",
   "execution_count": null,
   "metadata": {},
   "outputs": [],
   "source": [
    "r.add(Dense(units=num_classes, activation='softmax'))"
   ]
  },
  {
   "cell_type": "code",
   "execution_count": null,
   "metadata": {},
   "outputs": [],
   "source": [
    "r.summary()"
   ]
  },
  {
   "cell_type": "code",
   "execution_count": null,
   "metadata": {},
   "outputs": [],
   "source": [
    "r.compile(optimizer='Adadelta', loss='categorical_crossentropy', metrics=['accuracy'])"
   ]
  },
  {
   "cell_type": "code",
   "execution_count": null,
   "metadata": {
    "scrolled": true
   },
   "outputs": [],
   "source": [
    "    history = r.fit(x_train, y_train, epochs=epochs, batch_size=batch_size, verbose=1, validation_split=1.0/6)"
   ]
  },
  {
   "cell_type": "markdown",
   "metadata": {},
   "source": [
    "### Analiza modela"
   ]
  },
  {
   "cell_type": "code",
   "execution_count": null,
   "metadata": {},
   "outputs": [],
   "source": [
    "test_loss, test_acc = r.evaluate(x_test, y_test, verbose=1)"
   ]
  },
  {
   "cell_type": "code",
   "execution_count": null,
   "metadata": {},
   "outputs": [],
   "source": [
    "test_loss"
   ]
  },
  {
   "cell_type": "code",
   "execution_count": null,
   "metadata": {},
   "outputs": [],
   "source": [
    "print(test_acc*100, '%')"
   ]
  },
  {
   "cell_type": "code",
   "execution_count": null,
   "metadata": {},
   "outputs": [],
   "source": [
    "# GRAFIK GRESKE\n",
    "epochs = history.epoch\n",
    "loss = history.history['loss']\n",
    "val_loss = history.history['val_loss']\n",
    "\n",
    "plt.xlabel('epochs')\n",
    "plt.ylabel('val')\n",
    "plt.plot(epochs, loss, c='red', label='training')\n",
    "plt.plot(epochs, val_loss, c='orange', label='validation')\n",
    "plt.legend()\n",
    "plt.show()"
   ]
  },
  {
   "cell_type": "code",
   "execution_count": null,
   "metadata": {},
   "outputs": [],
   "source": [
    "# GRAFIK PRECIZNOSTI\n",
    "acc = history.history['acc']\n",
    "val_acc = history.history['val_acc']\n",
    "\n",
    "plt.xlabel('epochs')\n",
    "plt.ylabel('acc')\n",
    "plt.plot(epochs, acc, c='red', label='training')\n",
    "plt.plot(epochs, val_acc, c='orange', label='validation')\n",
    "plt.legend()\n",
    "plt.show()"
   ]
  },
  {
   "cell_type": "code",
   "execution_count": null,
   "metadata": {},
   "outputs": [],
   "source": [
    "# Jos bi rasla preciznost ??"
   ]
  },
  {
   "cell_type": "code",
   "execution_count": null,
   "metadata": {},
   "outputs": [],
   "source": []
  }
 ],
 "metadata": {
  "kernelspec": {
   "display_name": "Python 3",
   "language": "python",
   "name": "python3"
  },
  "language_info": {
   "codemirror_mode": {
    "name": "ipython",
    "version": 3
   },
   "file_extension": ".py",
   "mimetype": "text/x-python",
   "name": "python",
   "nbconvert_exporter": "python",
   "pygments_lexer": "ipython3",
   "version": "3.6.5"
  }
 },
 "nbformat": 4,
 "nbformat_minor": 2
}
