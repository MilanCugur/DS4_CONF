{
 "cells": [
  {
   "cell_type": "markdown",
   "metadata": {},
   "source": [
    "# Trains a simple Deep NN on the MNIST dataset.  \n",
    "Gets to 98.3% test accuracy after 15 epoch."
   ]
  },
  {
   "cell_type": "code",
   "execution_count": 1,
   "metadata": {},
   "outputs": [
    {
     "name": "stderr",
     "output_type": "stream",
     "text": [
      "C:\\Users\\Milan Cugurovic\\Anaconda3\\lib\\site-packages\\h5py\\__init__.py:36: FutureWarning: Conversion of the second argument of issubdtype from `float` to `np.floating` is deprecated. In future, it will be treated as `np.float64 == np.dtype(float).type`.\n",
      "  from ._conv import register_converters as _register_converters\n",
      "Using TensorFlow backend.\n"
     ]
    }
   ],
   "source": [
    "from matplotlib import pyplot as plt\n",
    "\n",
    "from keras.datasets import mnist\n",
    "from keras.models import Sequential\n",
    "from keras.layers import Dense, Activation, Dropout\n",
    "from keras.optimizers import RMSprop\n",
    "from keras.utils import to_categorical\n",
    "\n",
    "%matplotlib inline"
   ]
  },
  {
   "cell_type": "markdown",
   "metadata": {},
   "source": [
    "### Load data"
   ]
  },
  {
   "cell_type": "code",
   "execution_count": 2,
   "metadata": {},
   "outputs": [],
   "source": [
    "(x_train, y_train), (x_test, y_test) = mnist.load_data()"
   ]
  },
  {
   "cell_type": "markdown",
   "metadata": {},
   "source": [
    "<img src='./mnist.JPG' height=800 width=800>"
   ]
  },
  {
   "cell_type": "code",
   "execution_count": 3,
   "metadata": {},
   "outputs": [],
   "source": [
    "# DEFINE PARAMETERS\n",
    "batch_size = 128  # size of batch\n",
    "num_classes = 10  # 0, 1, ..., 9\n",
    "epochs = 15       # number of epochs"
   ]
  },
  {
   "cell_type": "code",
   "execution_count": 4,
   "metadata": {},
   "outputs": [
    {
     "name": "stdout",
     "output_type": "stream",
     "text": [
      "60000 training seamples\n",
      "10000 test seamples\n"
     ]
    }
   ],
   "source": [
    "# RESHAPE IMAGES\n",
    "x_train.shape  # (60000, 28, 28)\n",
    "x_test.shape   # (10000, 28, 28)\n",
    "\n",
    "x_train = x_train.reshape(60000, 784)  # 28x28=784\n",
    "x_test = x_test.reshape(10000, 784)\n",
    "x_train = x_train.astype('float32')    # Because of data normalization\n",
    "x_test = x_test.astype('float32')\n",
    "x_train /= 255\n",
    "x_test /=255\n",
    "\n",
    "print(x_train.shape[0], 'training seamples')\n",
    "print(x_test.shape[0], 'test seamples')"
   ]
  },
  {
   "cell_type": "code",
   "execution_count": 5,
   "metadata": {},
   "outputs": [],
   "source": [
    "# DUMMY CODING\n",
    "y_train  # array([5, 0, 4, ..., 5, 6, 8], dtype=uint8)\n",
    "\n",
    "y_train = to_categorical(y_train, num_classes)  # Converts a class vector (integers) to binary class matrix. (10,)\n",
    "y_test = to_categorical(y_test, num_classes)\n",
    "\n",
    "# 7 --> array([0., 0., 0., 0., 0., 0., 0., 1., 0., 0.], dtype=float32)\n",
    "# 2 --> array([0., 0., 1., 0., 0., 0., 0., 0., 0., 0.], dtype=float32)\n",
    "# 0 --> array([1., 0., 0., 0., 0., 0., 0., 0., 0., 0.], dtype=float32)"
   ]
  },
  {
   "cell_type": "markdown",
   "metadata": {},
   "source": [
    "### Feed Forward Neural Network"
   ]
  },
  {
   "cell_type": "code",
   "execution_count": 6,
   "metadata": {},
   "outputs": [],
   "source": [
    "r = Sequential()"
   ]
  },
  {
   "cell_type": "code",
   "execution_count": 7,
   "metadata": {},
   "outputs": [],
   "source": [
    "r.add(Dense(units=512, input_dim=784, activation='relu'))\n",
    "r.add(Dropout(0.4))  # Add a dropout layer for previous hidden layer"
   ]
  },
  {
   "cell_type": "code",
   "execution_count": 8,
   "metadata": {},
   "outputs": [],
   "source": [
    "r.add(Dense(units=512, activation='relu'))\n",
    "r.add(Dropout(0.4))  # Add a dropout layer for previous hidden layer"
   ]
  },
  {
   "cell_type": "code",
   "execution_count": 9,
   "metadata": {},
   "outputs": [],
   "source": [
    "r.add(Dense(units=num_classes, activation='softmax'))"
   ]
  },
  {
   "cell_type": "code",
   "execution_count": 10,
   "metadata": {},
   "outputs": [
    {
     "name": "stdout",
     "output_type": "stream",
     "text": [
      "_________________________________________________________________\n",
      "Layer (type)                 Output Shape              Param #   \n",
      "=================================================================\n",
      "dense_1 (Dense)              (None, 512)               401920    \n",
      "_________________________________________________________________\n",
      "dropout_1 (Dropout)          (None, 512)               0         \n",
      "_________________________________________________________________\n",
      "dense_2 (Dense)              (None, 512)               262656    \n",
      "_________________________________________________________________\n",
      "dropout_2 (Dropout)          (None, 512)               0         \n",
      "_________________________________________________________________\n",
      "dense_3 (Dense)              (None, 10)                5130      \n",
      "=================================================================\n",
      "Total params: 669,706\n",
      "Trainable params: 669,706\n",
      "Non-trainable params: 0\n",
      "_________________________________________________________________\n"
     ]
    }
   ],
   "source": [
    "r.summary()  # Summary of our network"
   ]
  },
  {
   "cell_type": "code",
   "execution_count": 11,
   "metadata": {},
   "outputs": [],
   "source": [
    "r.compile(optimizer=RMSprop(), loss='categorical_crossentropy', metrics=['accuracy'])  # Compile our model"
   ]
  },
  {
   "cell_type": "code",
   "execution_count": 12,
   "metadata": {},
   "outputs": [
    {
     "name": "stdout",
     "output_type": "stream",
     "text": [
      "Train on 55000 samples, validate on 5000 samples\n",
      "Epoch 1/15\n",
      "55000/55000 [==============================] - 38s 686us/step - loss: 0.3067 - acc: 0.9062 - val_loss: 0.0999 - val_acc: 0.9720\n",
      "Epoch 2/15\n",
      "55000/55000 [==============================] - 40s 728us/step - loss: 0.1440 - acc: 0.9580 - val_loss: 0.0765 - val_acc: 0.9786\n",
      "Epoch 3/15\n",
      "55000/55000 [==============================] - 40s 722us/step - loss: 0.1116 - acc: 0.9673 - val_loss: 0.0670 - val_acc: 0.9798\n",
      "Epoch 4/15\n",
      "55000/55000 [==============================] - 43s 783us/step - loss: 0.0942 - acc: 0.9722 - val_loss: 0.0753 - val_acc: 0.9800\n",
      "Epoch 5/15\n",
      "55000/55000 [==============================] - 44s 802us/step - loss: 0.0838 - acc: 0.9758 - val_loss: 0.0776 - val_acc: 0.9830\n",
      "Epoch 6/15\n",
      "55000/55000 [==============================] - 39s 705us/step - loss: 0.0770 - acc: 0.9783 - val_loss: 0.0758 - val_acc: 0.9810\n",
      "Epoch 7/15\n",
      "55000/55000 [==============================] - 36s 660us/step - loss: 0.0722 - acc: 0.9792 - val_loss: 0.0749 - val_acc: 0.9808\n",
      "Epoch 8/15\n",
      "55000/55000 [==============================] - 38s 686us/step - loss: 0.0671 - acc: 0.9808 - val_loss: 0.0726 - val_acc: 0.9824\n",
      "Epoch 9/15\n",
      "55000/55000 [==============================] - 39s 701us/step - loss: 0.0609 - acc: 0.9835 - val_loss: 0.0724 - val_acc: 0.9844\n",
      "Epoch 10/15\n",
      "55000/55000 [==============================] - 40s 727us/step - loss: 0.0600 - acc: 0.9831 - val_loss: 0.0697 - val_acc: 0.9850\n",
      "Epoch 11/15\n",
      "55000/55000 [==============================] - 39s 708us/step - loss: 0.0548 - acc: 0.9850 - val_loss: 0.0788 - val_acc: 0.9828\n",
      "Epoch 12/15\n",
      "55000/55000 [==============================] - 38s 689us/step - loss: 0.0530 - acc: 0.9858 - val_loss: 0.0737 - val_acc: 0.9840\n",
      "Epoch 13/15\n",
      "55000/55000 [==============================] - 36s 647us/step - loss: 0.0504 - acc: 0.9863 - val_loss: 0.0777 - val_acc: 0.9844\n",
      "Epoch 14/15\n",
      "55000/55000 [==============================] - 36s 652us/step - loss: 0.0504 - acc: 0.9870 - val_loss: 0.0890 - val_acc: 0.9828\n",
      "Epoch 15/15\n",
      "55000/55000 [==============================] - 36s 646us/step - loss: 0.0496 - acc: 0.9870 - val_loss: 0.0738 - val_acc: 0.9848\n"
     ]
    }
   ],
   "source": [
    "history = r.fit(x_train, y_train, epochs=epochs, batch_size=batch_size, verbose=1, validation_split=1.0/12)  # Train"
   ]
  },
  {
   "cell_type": "markdown",
   "metadata": {},
   "source": [
    "### Model analysis"
   ]
  },
  {
   "cell_type": "code",
   "execution_count": 13,
   "metadata": {},
   "outputs": [
    {
     "name": "stdout",
     "output_type": "stream",
     "text": [
      "10000/10000 [==============================] - 3s 333us/step\n"
     ]
    }
   ],
   "source": [
    "test_loss, test_acc = r.evaluate(x_test, y_test)"
   ]
  },
  {
   "cell_type": "code",
   "execution_count": 14,
   "metadata": {},
   "outputs": [
    {
     "data": {
      "text/plain": [
       "0.08660309846304148"
      ]
     },
     "execution_count": 14,
     "metadata": {},
     "output_type": "execute_result"
    }
   ],
   "source": [
    "test_loss"
   ]
  },
  {
   "cell_type": "code",
   "execution_count": 15,
   "metadata": {},
   "outputs": [
    {
     "data": {
      "text/plain": [
       "0.9831"
      ]
     },
     "execution_count": 15,
     "metadata": {},
     "output_type": "execute_result"
    }
   ],
   "source": [
    "test_acc"
   ]
  },
  {
   "cell_type": "markdown",
   "metadata": {},
   "source": [
    "### Plot error/accuracy"
   ]
  },
  {
   "cell_type": "code",
   "execution_count": 16,
   "metadata": {},
   "outputs": [
    {
     "data": {
      "image/png": "[encoded data removed]",
      "text/plain": [
       "<Figure size 432x288 with 1 Axes>"
      ]
     },
     "metadata": {},
     "output_type": "display_data"
    }
   ],
   "source": [
    "# ERROR PLOT\n",
    "epochs = history.epoch\n",
    "loss = history.history['loss']\n",
    "val_loss = history.history['val_loss']\n",
    "\n",
    "plt.xlabel('epochs')\n",
    "plt.ylabel('loss')\n",
    "plt.plot(epochs, loss, c='red', label='training')\n",
    "plt.plot(epochs, val_loss, c='orange', label='validation')\n",
    "plt.legend()\n",
    "plt.show()"
   ]
  },
  {
   "cell_type": "code",
   "execution_count": 17,
   "metadata": {},
   "outputs": [
    {
     "data": {
      "image/png": "[encoded data removed]",
      "text/plain": [
       "<Figure size 432x288 with 1 Axes>"
      ]
     },
     "metadata": {},
     "output_type": "display_data"
    }
   ],
   "source": [
    "# ACCURACY PLOT\n",
    "acc = history.history['acc']\n",
    "val_acc = history.history['val_acc']\n",
    "\n",
    "plt.xlabel('epochs')\n",
    "plt.ylabel('acc')\n",
    "plt.plot(epochs, acc, c='red', label='training')\n",
    "plt.plot(epochs, val_acc, c='orange', label='validation')\n",
    "plt.legend()\n",
    "plt.show()"
   ]
  },
  {
   "cell_type": "markdown",
   "metadata": {},
   "source": [
    "### TODO"
   ]
  },
  {
   "cell_type": "code",
   "execution_count": 18,
   "metadata": {},
   "outputs": [],
   "source": [
    "# Investigate about RMSProp() (Both online and ?RMSProp())"
   ]
  }
 ],
 "metadata": {
  "kernelspec": {
   "display_name": "Python 3",
   "language": "python",
   "name": "python3"
  },
  "language_info": {
   "codemirror_mode": {
    "name": "ipython",
    "version": 3
   },
   "file_extension": ".py",
   "mimetype": "text/x-python",
   "name": "python",
   "nbconvert_exporter": "python",
   "pygments_lexer": "ipython3",
   "version": "3.6.5"
  }
 },
 "nbformat": 4,
 "nbformat_minor": 2
}
