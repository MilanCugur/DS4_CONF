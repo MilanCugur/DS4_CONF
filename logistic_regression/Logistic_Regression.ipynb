{
 "cells": [
  {
   "cell_type": "markdown",
   "metadata": {},
   "source": [
    "# Breasts cancer classification\n",
    "\n",
    "<img src='./cancer.JPG'>"
   ]
  },
  {
   "cell_type": "code",
   "execution_count": 18,
   "metadata": {},
   "outputs": [],
   "source": [
    "import numpy as np\n",
    "import pandas as pd\n",
    "from matplotlib import pyplot as plt\n",
    "\n",
    "from sklearn import linear_model     # linear_model.LogisticRegression\n",
    "from sklearn import model_selection  # model_selection.train_test_split\n",
    "from sklearn import metrics          # metrics.accuracy_score\n",
    "from sklearn import preprocessing    # preprocessing.StandardScaler\n",
    "from sklearn import datasets         # datasets.load_breasts_cancer\n",
    "%matplotlib inline"
   ]
  },
  {
   "cell_type": "markdown",
   "metadata": {},
   "source": [
    "### Load data"
   ]
  },
  {
   "cell_type": "code",
   "execution_count": 19,
   "metadata": {},
   "outputs": [
    {
     "name": "stdout",
     "output_type": "stream",
     "text": [
      "Breast Cancer Wisconsin (Diagnostic) Database\n",
      "=============================================\n",
      "\n",
      "Notes\n",
      "-----\n",
      "Data Set Characteristics:\n",
      "    :Number of Instances: 569\n",
      "\n",
      "    :Number of Attributes: 30 numeric, predictive attributes and the class\n",
      "\n",
      "    :Attribute Information:\n",
      "        - radius (mean of distances from center to points on the perimeter)\n",
      "        - texture (standard deviation of gray-scale values)\n",
      "        - perimeter\n",
      "        - area\n",
      "        - smoothness (local variation in radius lengths)\n",
      "        - compactness (perimeter^2 / area - 1.0)\n",
      "        - concavity (severity of concave portions of the contour)\n",
      "        - concave points (number of concave portions of the contour)\n",
      "        - symmetry \n",
      "        - fractal dimension (\"coastline approximation\" - 1)\n",
      "\n",
      "        The mean, standard error, and \"worst\" or largest (mean of the three\n",
      "        largest values) of these features were computed for each image,\n",
      "        resulting in 30 features.  For instance, field 3 is Mean Radius, field\n",
      "        13 is Radius SE, field 23 is Worst Radius.\n",
      "\n",
      "        - class:\n",
      "                - WDBC-Malignant\n",
      "                - WDBC-Benign\n",
      "\n",
      "    :Summary Statistics:\n",
      "\n",
      "    ===================================== ====== ======\n",
      "                                           Min    Max\n",
      "    ===================================== ====== ======\n",
      "    radius (mean):                        6.981  28.11\n",
      "    texture (mean):                       9.71   39.28\n",
      "    perimeter (mean):                     43.79  188.5\n",
      "    area (mean):                          143.5  2501.0\n",
      "    smoothness (mean):                    0.053  0.163\n",
      "    compactness (mean):                   0.019  0.345\n",
      "    concavity (mean):                     0.0    0.427\n",
      "    concave points (mean):                0.0    0.201\n",
      "    symmetry (mean):                      0.106  0.304\n",
      "    fractal dimension (mean):             0.05   0.097\n",
      "    radius (standard error):              0.112  2.873\n",
      "    texture (standard error):             0.36   4.885\n",
      "    perimeter (standard error):           0.757  21.98\n",
      "    area (standard error):                6.802  542.2\n",
      "    smoothness (standard error):          0.002  0.031\n",
      "    compactness (standard error):         0.002  0.135\n",
      "    concavity (standard error):           0.0    0.396\n",
      "    concave points (standard error):      0.0    0.053\n",
      "    symmetry (standard error):            0.008  0.079\n",
      "    fractal dimension (standard error):   0.001  0.03\n",
      "    radius (worst):                       7.93   36.04\n",
      "    texture (worst):                      12.02  49.54\n",
      "    perimeter (worst):                    50.41  251.2\n",
      "    area (worst):                         185.2  4254.0\n",
      "    smoothness (worst):                   0.071  0.223\n",
      "    compactness (worst):                  0.027  1.058\n",
      "    concavity (worst):                    0.0    1.252\n",
      "    concave points (worst):               0.0    0.291\n",
      "    symmetry (worst):                     0.156  0.664\n",
      "    fractal dimension (worst):            0.055  0.208\n",
      "    ===================================== ====== ======\n",
      "\n",
      "    :Missing Attribute Values: None\n",
      "\n",
      "    :Class Distribution: 212 - Malignant, 357 - Benign\n",
      "\n",
      "    :Creator:  Dr. William H. Wolberg, W. Nick Street, Olvi L. Mangasarian\n",
      "\n",
      "    :Donor: Nick Street\n",
      "\n",
      "    :Date: November, 1995\n",
      "\n",
      "This is a copy of UCI ML Breast Cancer Wisconsin (Diagnostic) datasets.\n",
      "https://goo.gl/U2Uwz2\n",
      "\n",
      "Features are computed from a digitized image of a fine needle\n",
      "aspirate (FNA) of a breast mass.  They describe\n",
      "characteristics of the cell nuclei present in the image.\n",
      "\n",
      "Separating plane described above was obtained using\n",
      "Multisurface Method-Tree (MSM-T) [K. P. Bennett, \"Decision Tree\n",
      "Construction Via Linear Programming.\" Proceedings of the 4th\n",
      "Midwest Artificial Intelligence and Cognitive Science Society,\n",
      "pp. 97-101, 1992], a classification method which uses linear\n",
      "programming to construct a decision tree.  Relevant features\n",
      "were selected using an exhaustive search in the space of 1-4\n",
      "features and 1-3 separating planes.\n",
      "\n",
      "The actual linear program used to obtain the separating plane\n",
      "in the 3-dimensional space is that described in:\n",
      "[K. P. Bennett and O. L. Mangasarian: \"Robust Linear\n",
      "Programming Discrimination of Two Linearly Inseparable Sets\",\n",
      "Optimization Methods and Software 1, 1992, 23-34].\n",
      "\n",
      "This database is also available through the UW CS ftp server:\n",
      "\n",
      "ftp ftp.cs.wisc.edu\n",
      "cd math-prog/cpo-dataset/machine-learn/WDBC/\n",
      "\n",
      "References\n",
      "----------\n",
      "   - W.N. Street, W.H. Wolberg and O.L. Mangasarian. Nuclear feature extraction \n",
      "     for breast tumor diagnosis. IS&T/SPIE 1993 International Symposium on \n",
      "     Electronic Imaging: Science and Technology, volume 1905, pages 861-870,\n",
      "     San Jose, CA, 1993.\n",
      "   - O.L. Mangasarian, W.N. Street and W.H. Wolberg. Breast cancer diagnosis and \n",
      "     prognosis via linear programming. Operations Research, 43(4), pages 570-577, \n",
      "     July-August 1995.\n",
      "   - W.H. Wolberg, W.N. Street, and O.L. Mangasarian. Machine learning techniques\n",
      "     to diagnose breast cancer from fine-needle aspirates. Cancer Letters 77 (1994) \n",
      "     163-171.\n",
      "\n"
     ]
    }
   ],
   "source": [
    "data = datasets.load_breast_cancer()  # sklearn.utils.Bunch\n",
    "print(data.DESCR)"
   ]
  },
  {
   "cell_type": "code",
   "execution_count": 20,
   "metadata": {},
   "outputs": [],
   "source": [
    "x = data.data    # (569, 30)\n",
    "y = data.target  # (569,)"
   ]
  },
  {
   "cell_type": "code",
   "execution_count": 21,
   "metadata": {},
   "outputs": [
    {
     "data": {
      "text/plain": [
       "array(['mean radius', 'mean texture', 'mean perimeter', 'mean area',\n",
       "       'mean smoothness', 'mean compactness', 'mean concavity',\n",
       "       'mean concave points', 'mean symmetry', 'mean fractal dimension',\n",
       "       'radius error', 'texture error', 'perimeter error', 'area error',\n",
       "       'smoothness error', 'compactness error', 'concavity error',\n",
       "       'concave points error', 'symmetry error',\n",
       "       'fractal dimension error', 'worst radius', 'worst texture',\n",
       "       'worst perimeter', 'worst area', 'worst smoothness',\n",
       "       'worst compactness', 'worst concavity', 'worst concave points',\n",
       "       'worst symmetry', 'worst fractal dimension'], dtype='<U23')"
      ]
     },
     "execution_count": 21,
     "metadata": {},
     "output_type": "execute_result"
    }
   ],
   "source": [
    "data.feature_names"
   ]
  },
  {
   "cell_type": "code",
   "execution_count": 22,
   "metadata": {},
   "outputs": [
    {
     "data": {
      "text/plain": [
       "array(['malignant', 'benign'], dtype='<U9')"
      ]
     },
     "execution_count": 22,
     "metadata": {},
     "output_type": "execute_result"
    }
   ],
   "source": [
    "data.target_names"
   ]
  },
  {
   "cell_type": "code",
   "execution_count": 23,
   "metadata": {},
   "outputs": [],
   "source": [
    "x = pd.DataFrame(x, columns=data.feature_names)"
   ]
  },
  {
   "cell_type": "code",
   "execution_count": 25,
   "metadata": {},
   "outputs": [
    {
     "data": {
      "text/html": [
       "<div>\n",
       "<style scoped>\n",
       "    .dataframe tbody tr th:only-of-type {\n",
       "        vertical-align: middle;\n",
       "    }\n",
       "\n",
       "    .dataframe tbody tr th {\n",
       "        vertical-align: top;\n",
       "    }\n",
       "\n",
       "    .dataframe thead th {\n",
       "        text-align: right;\n",
       "    }\n",
       "</style>\n",
       "<table border=\"1\" class=\"dataframe\">\n",
       "  <thead>\n",
       "    <tr style=\"text-align: right;\">\n",
       "      <th></th>\n",
       "      <th>mean radius</th>\n",
       "      <th>mean texture</th>\n",
       "      <th>mean perimeter</th>\n",
       "      <th>mean area</th>\n",
       "      <th>mean smoothness</th>\n",
       "      <th>mean compactness</th>\n",
       "      <th>mean concavity</th>\n",
       "      <th>mean concave points</th>\n",
       "      <th>mean symmetry</th>\n",
       "      <th>mean fractal dimension</th>\n",
       "      <th>...</th>\n",
       "      <th>worst radius</th>\n",
       "      <th>worst texture</th>\n",
       "      <th>worst perimeter</th>\n",
       "      <th>worst area</th>\n",
       "      <th>worst smoothness</th>\n",
       "      <th>worst compactness</th>\n",
       "      <th>worst concavity</th>\n",
       "      <th>worst concave points</th>\n",
       "      <th>worst symmetry</th>\n",
       "      <th>worst fractal dimension</th>\n",
       "    </tr>\n",
       "  </thead>\n",
       "  <tbody>\n",
       "    <tr>\n",
       "      <th>0</th>\n",
       "      <td>17.99</td>\n",
       "      <td>10.38</td>\n",
       "      <td>122.80</td>\n",
       "      <td>1001.0</td>\n",
       "      <td>0.11840</td>\n",
       "      <td>0.27760</td>\n",
       "      <td>0.3001</td>\n",
       "      <td>0.14710</td>\n",
       "      <td>0.2419</td>\n",
       "      <td>0.07871</td>\n",
       "      <td>...</td>\n",
       "      <td>25.38</td>\n",
       "      <td>17.33</td>\n",
       "      <td>184.60</td>\n",
       "      <td>2019.0</td>\n",
       "      <td>0.1622</td>\n",
       "      <td>0.6656</td>\n",
       "      <td>0.7119</td>\n",
       "      <td>0.2654</td>\n",
       "      <td>0.4601</td>\n",
       "      <td>0.11890</td>\n",
       "    </tr>\n",
       "    <tr>\n",
       "      <th>1</th>\n",
       "      <td>20.57</td>\n",
       "      <td>17.77</td>\n",
       "      <td>132.90</td>\n",
       "      <td>1326.0</td>\n",
       "      <td>0.08474</td>\n",
       "      <td>0.07864</td>\n",
       "      <td>0.0869</td>\n",
       "      <td>0.07017</td>\n",
       "      <td>0.1812</td>\n",
       "      <td>0.05667</td>\n",
       "      <td>...</td>\n",
       "      <td>24.99</td>\n",
       "      <td>23.41</td>\n",
       "      <td>158.80</td>\n",
       "      <td>1956.0</td>\n",
       "      <td>0.1238</td>\n",
       "      <td>0.1866</td>\n",
       "      <td>0.2416</td>\n",
       "      <td>0.1860</td>\n",
       "      <td>0.2750</td>\n",
       "      <td>0.08902</td>\n",
       "    </tr>\n",
       "    <tr>\n",
       "      <th>2</th>\n",
       "      <td>19.69</td>\n",
       "      <td>21.25</td>\n",
       "      <td>130.00</td>\n",
       "      <td>1203.0</td>\n",
       "      <td>0.10960</td>\n",
       "      <td>0.15990</td>\n",
       "      <td>0.1974</td>\n",
       "      <td>0.12790</td>\n",
       "      <td>0.2069</td>\n",
       "      <td>0.05999</td>\n",
       "      <td>...</td>\n",
       "      <td>23.57</td>\n",
       "      <td>25.53</td>\n",
       "      <td>152.50</td>\n",
       "      <td>1709.0</td>\n",
       "      <td>0.1444</td>\n",
       "      <td>0.4245</td>\n",
       "      <td>0.4504</td>\n",
       "      <td>0.2430</td>\n",
       "      <td>0.3613</td>\n",
       "      <td>0.08758</td>\n",
       "    </tr>\n",
       "    <tr>\n",
       "      <th>3</th>\n",
       "      <td>11.42</td>\n",
       "      <td>20.38</td>\n",
       "      <td>77.58</td>\n",
       "      <td>386.1</td>\n",
       "      <td>0.14250</td>\n",
       "      <td>0.28390</td>\n",
       "      <td>0.2414</td>\n",
       "      <td>0.10520</td>\n",
       "      <td>0.2597</td>\n",
       "      <td>0.09744</td>\n",
       "      <td>...</td>\n",
       "      <td>14.91</td>\n",
       "      <td>26.50</td>\n",
       "      <td>98.87</td>\n",
       "      <td>567.7</td>\n",
       "      <td>0.2098</td>\n",
       "      <td>0.8663</td>\n",
       "      <td>0.6869</td>\n",
       "      <td>0.2575</td>\n",
       "      <td>0.6638</td>\n",
       "      <td>0.17300</td>\n",
       "    </tr>\n",
       "    <tr>\n",
       "      <th>4</th>\n",
       "      <td>20.29</td>\n",
       "      <td>14.34</td>\n",
       "      <td>135.10</td>\n",
       "      <td>1297.0</td>\n",
       "      <td>0.10030</td>\n",
       "      <td>0.13280</td>\n",
       "      <td>0.1980</td>\n",
       "      <td>0.10430</td>\n",
       "      <td>0.1809</td>\n",
       "      <td>0.05883</td>\n",
       "      <td>...</td>\n",
       "      <td>22.54</td>\n",
       "      <td>16.67</td>\n",
       "      <td>152.20</td>\n",
       "      <td>1575.0</td>\n",
       "      <td>0.1374</td>\n",
       "      <td>0.2050</td>\n",
       "      <td>0.4000</td>\n",
       "      <td>0.1625</td>\n",
       "      <td>0.2364</td>\n",
       "      <td>0.07678</td>\n",
       "    </tr>\n",
       "  </tbody>\n",
       "</table>\n",
       "<p>5 rows × 30 columns</p>\n",
       "</div>"
      ],
      "text/plain": [
       "   mean radius  mean texture  mean perimeter  mean area  mean smoothness  \\\n",
       "0        17.99         10.38          122.80     1001.0          0.11840   \n",
       "1        20.57         17.77          132.90     1326.0          0.08474   \n",
       "2        19.69         21.25          130.00     1203.0          0.10960   \n",
       "3        11.42         20.38           77.58      386.1          0.14250   \n",
       "4        20.29         14.34          135.10     1297.0          0.10030   \n",
       "\n",
       "   mean compactness  mean concavity  mean concave points  mean symmetry  \\\n",
       "0           0.27760          0.3001              0.14710         0.2419   \n",
       "1           0.07864          0.0869              0.07017         0.1812   \n",
       "2           0.15990          0.1974              0.12790         0.2069   \n",
       "3           0.28390          0.2414              0.10520         0.2597   \n",
       "4           0.13280          0.1980              0.10430         0.1809   \n",
       "\n",
       "   mean fractal dimension           ...             worst radius  \\\n",
       "0                 0.07871           ...                    25.38   \n",
       "1                 0.05667           ...                    24.99   \n",
       "2                 0.05999           ...                    23.57   \n",
       "3                 0.09744           ...                    14.91   \n",
       "4                 0.05883           ...                    22.54   \n",
       "\n",
       "   worst texture  worst perimeter  worst area  worst smoothness  \\\n",
       "0          17.33           184.60      2019.0            0.1622   \n",
       "1          23.41           158.80      1956.0            0.1238   \n",
       "2          25.53           152.50      1709.0            0.1444   \n",
       "3          26.50            98.87       567.7            0.2098   \n",
       "4          16.67           152.20      1575.0            0.1374   \n",
       "\n",
       "   worst compactness  worst concavity  worst concave points  worst symmetry  \\\n",
       "0             0.6656           0.7119                0.2654          0.4601   \n",
       "1             0.1866           0.2416                0.1860          0.2750   \n",
       "2             0.4245           0.4504                0.2430          0.3613   \n",
       "3             0.8663           0.6869                0.2575          0.6638   \n",
       "4             0.2050           0.4000                0.1625          0.2364   \n",
       "\n",
       "   worst fractal dimension  \n",
       "0                  0.11890  \n",
       "1                  0.08902  \n",
       "2                  0.08758  \n",
       "3                  0.17300  \n",
       "4                  0.07678  \n",
       "\n",
       "[5 rows x 30 columns]"
      ]
     },
     "metadata": {},
     "output_type": "display_data"
    },
    {
     "data": {
      "text/plain": [
       "array([0, 0, 0, 0, 0])"
      ]
     },
     "metadata": {},
     "output_type": "display_data"
    }
   ],
   "source": [
    "display(x.head())\n",
    "display(y[0:5])"
   ]
  },
  {
   "cell_type": "markdown",
   "metadata": {},
   "source": [
    "### Data analysis"
   ]
  },
  {
   "cell_type": "code",
   "execution_count": 26,
   "metadata": {},
   "outputs": [],
   "source": [
    "#pd.DataFrame.hist(x, figsize=(16,16))\n",
    "#plt.show()"
   ]
  },
  {
   "cell_type": "code",
   "execution_count": 27,
   "metadata": {},
   "outputs": [],
   "source": [
    "#pd.DataFrame.hist(y, figsize=(5,5))\n",
    "#plt.show()"
   ]
  },
  {
   "cell_type": "code",
   "execution_count": 28,
   "metadata": {},
   "outputs": [],
   "source": [
    "#plt.figure(figsize=(12, 12))\n",
    "#plt.xticks(np.arange(0, x.shape[1]), data.feature_names, rotation=90)  # Names drop fix need\n",
    "#plt.yticks(np.arange(0, x.shape[1]), data.feature_names)\n",
    "#plt.imshow(pd.DataFrame.corr(x), cmap='ocean')\n",
    "#plt.colorbar()\n",
    "#plt.show()"
   ]
  },
  {
   "cell_type": "markdown",
   "metadata": {},
   "source": [
    "### Split data and Preprocessing"
   ]
  },
  {
   "cell_type": "code",
   "execution_count": 29,
   "metadata": {},
   "outputs": [],
   "source": [
    "x_train, x_test, y_train, y_test = model_selection.train_test_split(x, y, train_size=0.67, test_size=0.33, \\\n",
    "                                                                    stratify=y, random_state=7)"
   ]
  },
  {
   "cell_type": "code",
   "execution_count": 30,
   "metadata": {},
   "outputs": [],
   "source": [
    "scaler = preprocessing.StandardScaler()\n",
    "scaler.fit(x_train, y_train)\n",
    "x_train = scaler.transform(x_train)\n",
    "x_test = scaler.transform(x_test)"
   ]
  },
  {
   "cell_type": "markdown",
   "metadata": {},
   "source": [
    "### Logistic Regression Model"
   ]
  },
  {
   "cell_type": "code",
   "execution_count": 31,
   "metadata": {},
   "outputs": [],
   "source": [
    "r = linear_model.LogisticRegression()"
   ]
  },
  {
   "cell_type": "code",
   "execution_count": 32,
   "metadata": {},
   "outputs": [
    {
     "data": {
      "text/plain": [
       "LogisticRegression(C=1.0, class_weight=None, dual=False, fit_intercept=True,\n",
       "          intercept_scaling=1, max_iter=100, multi_class='ovr', n_jobs=1,\n",
       "          penalty='l2', random_state=None, solver='liblinear', tol=0.0001,\n",
       "          verbose=0, warm_start=False)"
      ]
     },
     "execution_count": 32,
     "metadata": {},
     "output_type": "execute_result"
    }
   ],
   "source": [
    "r.fit(x_train, y_train)"
   ]
  },
  {
   "cell_type": "code",
   "execution_count": 33,
   "metadata": {},
   "outputs": [
    {
     "data": {
      "text/plain": [
       "array([0.26862964])"
      ]
     },
     "execution_count": 33,
     "metadata": {},
     "output_type": "execute_result"
    }
   ],
   "source": [
    "r.intercept_"
   ]
  },
  {
   "cell_type": "code",
   "execution_count": 34,
   "metadata": {},
   "outputs": [
    {
     "data": {
      "text/plain": [
       "array([[-0.27544023, -0.50084558, -0.29832841, -0.44222808, -0.08345319,\n",
       "         0.47774684, -0.64537462, -0.58458543, -0.19299068,  0.27567901,\n",
       "        -1.09019124,  0.18326243, -0.5666638 , -0.91496324, -0.0730358 ,\n",
       "         0.81075687, -0.14531782, -0.40100136,  0.26422463,  0.43892385,\n",
       "        -0.95668819, -1.14486767, -0.75504657, -1.00071393, -0.58473687,\n",
       "         0.08872894, -0.72647006, -0.89528128, -0.69997844, -0.6512288 ]])"
      ]
     },
     "execution_count": 34,
     "metadata": {},
     "output_type": "execute_result"
    }
   ],
   "source": [
    "r.coef_"
   ]
  },
  {
   "cell_type": "markdown",
   "metadata": {},
   "source": [
    "### Evaluation of our model"
   ]
  },
  {
   "cell_type": "code",
   "execution_count": 35,
   "metadata": {},
   "outputs": [],
   "source": [
    "y_predicted = r.predict(x_train)"
   ]
  },
  {
   "cell_type": "code",
   "execution_count": 36,
   "metadata": {},
   "outputs": [
    {
     "data": {
      "text/plain": [
       "0.989501312335958"
      ]
     },
     "execution_count": 36,
     "metadata": {},
     "output_type": "execute_result"
    }
   ],
   "source": [
    "metrics.accuracy_score(y_train, y_predicted)  # Accuracy on train set"
   ]
  },
  {
   "cell_type": "code",
   "execution_count": 37,
   "metadata": {},
   "outputs": [],
   "source": [
    "y_predicted = r.predict(x_test)"
   ]
  },
  {
   "cell_type": "code",
   "execution_count": 38,
   "metadata": {},
   "outputs": [
    {
     "data": {
      "text/plain": [
       "0.9787234042553191"
      ]
     },
     "execution_count": 38,
     "metadata": {},
     "output_type": "execute_result"
    }
   ],
   "source": [
    "metrics.accuracy_score(y_test, y_predicted)  # Accuracy on train set"
   ]
  },
  {
   "cell_type": "code",
   "execution_count": 39,
   "metadata": {},
   "outputs": [
    {
     "data": {
      "text/plain": [
       "array([[3.51830920e-01, 6.48169080e-01],\n",
       "       [2.67301413e-02, 9.73269859e-01],\n",
       "       [2.66651128e-03, 9.97333489e-01],\n",
       "       [4.22426881e-05, 9.99957757e-01],\n",
       "       [9.99993867e-01, 6.13331626e-06],\n",
       "       [6.87209340e-03, 9.93127907e-01],\n",
       "       [3.60896810e-05, 9.99963910e-01],\n",
       "       [9.96715900e-01, 3.28409968e-03],\n",
       "       [1.66967960e-01, 8.33032040e-01],\n",
       "       [2.26315688e-04, 9.99773684e-01],\n",
       "       [1.00000000e+00, 5.42966397e-11],\n",
       "       [2.84485196e-03, 9.97155148e-01],\n",
       "       [9.99998045e-01, 1.95480380e-06],\n",
       "       [3.03638622e-02, 9.69636138e-01],\n",
       "       [9.99998462e-01, 1.53828628e-06],\n",
       "       [2.37469623e-02, 9.76253038e-01],\n",
       "       [1.16842203e-03, 9.98831578e-01],\n",
       "       [1.13550769e-02, 9.88644923e-01],\n",
       "       [9.99990219e-01, 9.78120110e-06],\n",
       "       [1.79590218e-02, 9.82040978e-01],\n",
       "       [7.36991011e-02, 9.26300899e-01],\n",
       "       [6.75467623e-04, 9.99324532e-01],\n",
       "       [9.99999999e-01, 1.17783890e-09],\n",
       "       [1.87824315e-04, 9.99812176e-01],\n",
       "       [4.98628528e-05, 9.99950137e-01],\n",
       "       [9.99086636e-01, 9.13363560e-04],\n",
       "       [5.92022756e-03, 9.94079772e-01],\n",
       "       [8.99438779e-01, 1.00561221e-01],\n",
       "       [2.91895229e-02, 9.70810477e-01],\n",
       "       [9.75353965e-01, 2.46460354e-02],\n",
       "       [8.76304079e-04, 9.99123696e-01],\n",
       "       [9.99803392e-01, 1.96607922e-04],\n",
       "       [6.94150171e-01, 3.05849829e-01],\n",
       "       [9.99999988e-01, 1.18790905e-08],\n",
       "       [6.41719564e-04, 9.99358280e-01],\n",
       "       [2.16894656e-04, 9.99783105e-01],\n",
       "       [1.79270298e-05, 9.99982073e-01],\n",
       "       [6.87588286e-03, 9.93124117e-01],\n",
       "       [3.40125611e-01, 6.59874389e-01],\n",
       "       [1.02749437e-01, 8.97250563e-01],\n",
       "       [1.00000000e+00, 4.40352266e-11],\n",
       "       [1.39129634e-03, 9.98608704e-01],\n",
       "       [1.00000000e+00, 1.19729419e-17],\n",
       "       [8.66404563e-04, 9.99133595e-01],\n",
       "       [9.40781143e-01, 5.92188568e-02],\n",
       "       [1.52720591e-02, 9.84727941e-01],\n",
       "       [9.97712042e-01, 2.28795763e-03],\n",
       "       [6.76747997e-03, 9.93232520e-01],\n",
       "       [4.59729333e-04, 9.99540271e-01],\n",
       "       [9.10578897e-05, 9.99908942e-01],\n",
       "       [8.66275710e-03, 9.91337243e-01],\n",
       "       [9.99997150e-01, 2.85024535e-06],\n",
       "       [6.76807053e-05, 9.99932319e-01],\n",
       "       [1.13592405e-03, 9.98864076e-01],\n",
       "       [1.92888716e-03, 9.98071113e-01],\n",
       "       [5.31320647e-04, 9.99468679e-01],\n",
       "       [9.06940499e-01, 9.30595013e-02],\n",
       "       [7.95458982e-03, 9.92045410e-01],\n",
       "       [1.00000000e+00, 8.72365763e-12],\n",
       "       [2.24207346e-03, 9.97757927e-01],\n",
       "       [1.44643010e-03, 9.98553570e-01],\n",
       "       [9.99999998e-01, 1.65166167e-09],\n",
       "       [9.68711176e-01, 3.12888244e-02],\n",
       "       [1.62348531e-03, 9.98376515e-01],\n",
       "       [2.40010805e-02, 9.75998919e-01],\n",
       "       [3.29750819e-04, 9.99670249e-01],\n",
       "       [7.09794045e-03, 9.92902060e-01],\n",
       "       [9.99999999e-01, 6.70108482e-10],\n",
       "       [9.99558624e-01, 4.41376156e-04],\n",
       "       [2.80837247e-03, 9.97191628e-01],\n",
       "       [9.99947780e-01, 5.22201124e-05],\n",
       "       [2.15676834e-03, 9.97843232e-01],\n",
       "       [2.40866461e-02, 9.75913354e-01],\n",
       "       [1.90831829e-03, 9.98091682e-01],\n",
       "       [3.23032553e-05, 9.99967697e-01],\n",
       "       [9.36618566e-03, 9.90633814e-01],\n",
       "       [1.00000000e+00, 7.33184774e-13],\n",
       "       [7.21260727e-03, 9.92787393e-01],\n",
       "       [9.99915265e-01, 8.47347485e-05],\n",
       "       [9.93036835e-01, 6.96316458e-03],\n",
       "       [5.13979148e-02, 9.48602085e-01],\n",
       "       [1.50383307e-04, 9.99849617e-01],\n",
       "       [9.99999943e-01, 5.65347174e-08],\n",
       "       [5.94410491e-02, 9.40558951e-01],\n",
       "       [9.99999299e-01, 7.01113590e-07],\n",
       "       [6.18671354e-04, 9.99381329e-01],\n",
       "       [6.97731534e-02, 9.30226847e-01],\n",
       "       [9.99713623e-01, 2.86377188e-04],\n",
       "       [1.53276180e-04, 9.99846724e-01],\n",
       "       [4.54162993e-02, 9.54583701e-01],\n",
       "       [2.07254967e-04, 9.99792745e-01],\n",
       "       [9.99863101e-01, 1.36898834e-04],\n",
       "       [3.66126702e-02, 9.63387330e-01],\n",
       "       [3.52829202e-04, 9.99647171e-01],\n",
       "       [2.99731523e-03, 9.97002685e-01],\n",
       "       [6.43717742e-01, 3.56282258e-01],\n",
       "       [1.70800752e-04, 9.99829199e-01],\n",
       "       [6.47377411e-01, 3.52622589e-01],\n",
       "       [4.34077442e-01, 5.65922558e-01],\n",
       "       [3.63403843e-03, 9.96365962e-01],\n",
       "       [6.79505634e-04, 9.99320494e-01],\n",
       "       [2.82281513e-03, 9.97177185e-01],\n",
       "       [8.04798076e-03, 9.91952019e-01],\n",
       "       [1.00000000e+00, 5.08394874e-13],\n",
       "       [9.99504553e-01, 4.95446685e-04],\n",
       "       [9.99964662e-01, 3.53378765e-05],\n",
       "       [9.82438407e-02, 9.01756159e-01],\n",
       "       [1.96270343e-04, 9.99803730e-01],\n",
       "       [3.92776907e-04, 9.99607223e-01],\n",
       "       [1.21233541e-02, 9.87876646e-01],\n",
       "       [3.98215417e-05, 9.99960178e-01],\n",
       "       [6.40024255e-04, 9.99359976e-01],\n",
       "       [8.37777184e-05, 9.99916222e-01],\n",
       "       [9.99999195e-01, 8.04813782e-07],\n",
       "       [5.11773086e-02, 9.48822691e-01],\n",
       "       [9.99881657e-01, 1.18343336e-04],\n",
       "       [9.99999985e-01, 1.51465466e-08],\n",
       "       [9.99999997e-01, 3.48860696e-09],\n",
       "       [3.27614134e-02, 9.67238587e-01],\n",
       "       [6.81505440e-03, 9.93184946e-01],\n",
       "       [1.88822215e-05, 9.99981118e-01],\n",
       "       [9.46927815e-01, 5.30721851e-02],\n",
       "       [1.40686185e-03, 9.98593138e-01],\n",
       "       [1.00566668e-01, 8.99433332e-01],\n",
       "       [6.66120199e-01, 3.33879801e-01],\n",
       "       [9.99582903e-01, 4.17096569e-04],\n",
       "       [4.28267623e-01, 5.71732377e-01],\n",
       "       [1.40382876e-02, 9.85961712e-01],\n",
       "       [8.18054204e-07, 9.99999182e-01],\n",
       "       [9.31636136e-01, 6.83638637e-02],\n",
       "       [5.83396687e-05, 9.99941660e-01],\n",
       "       [1.27751707e-03, 9.98722483e-01],\n",
       "       [2.00267795e-05, 9.99979973e-01],\n",
       "       [9.57301148e-04, 9.99042699e-01],\n",
       "       [2.48009237e-03, 9.97519908e-01],\n",
       "       [1.87687818e-03, 9.98123122e-01],\n",
       "       [9.99280569e-01, 7.19430677e-04],\n",
       "       [2.12062303e-01, 7.87937697e-01],\n",
       "       [3.64559631e-03, 9.96354404e-01],\n",
       "       [9.99991299e-01, 8.70085300e-06],\n",
       "       [9.92539165e-01, 7.46083505e-03],\n",
       "       [1.28570948e-03, 9.98714291e-01],\n",
       "       [3.59853324e-05, 9.99964015e-01],\n",
       "       [1.93624252e-01, 8.06375748e-01],\n",
       "       [1.09415444e-03, 9.98905846e-01],\n",
       "       [9.99920236e-01, 7.97643088e-05],\n",
       "       [9.97264903e-01, 2.73509731e-03],\n",
       "       [9.98894346e-01, 1.10565397e-03],\n",
       "       [9.99999047e-01, 9.53207086e-07],\n",
       "       [4.16986924e-03, 9.95830131e-01],\n",
       "       [9.98305941e-01, 1.69405912e-03],\n",
       "       [4.93828580e-02, 9.50617142e-01],\n",
       "       [9.99999999e-01, 1.17235612e-09],\n",
       "       [1.00000000e+00, 8.01500558e-11],\n",
       "       [4.06618086e-02, 9.59338191e-01],\n",
       "       [9.70918341e-01, 2.90816592e-02],\n",
       "       [9.99996774e-01, 3.22556875e-06],\n",
       "       [1.00000000e+00, 4.77988334e-13],\n",
       "       [9.62060981e-05, 9.99903794e-01],\n",
       "       [9.01820024e-01, 9.81799763e-02],\n",
       "       [2.67438360e-07, 9.99999733e-01],\n",
       "       [6.79338256e-05, 9.99932066e-01],\n",
       "       [9.99999993e-01, 7.29995178e-09],\n",
       "       [9.99934624e-01, 6.53759887e-05],\n",
       "       [9.99684708e-01, 3.15292331e-04],\n",
       "       [1.14390423e-04, 9.99885610e-01],\n",
       "       [2.01966293e-05, 9.99979803e-01],\n",
       "       [9.99935246e-01, 6.47540023e-05],\n",
       "       [9.99964966e-01, 3.50342683e-05],\n",
       "       [7.16085712e-04, 9.99283914e-01],\n",
       "       [8.26473228e-01, 1.73526772e-01],\n",
       "       [9.46146959e-01, 5.38530407e-02],\n",
       "       [9.99782772e-01, 2.17228311e-04],\n",
       "       [9.66570784e-03, 9.90334292e-01],\n",
       "       [2.33406599e-03, 9.97665934e-01],\n",
       "       [2.28513180e-03, 9.97714868e-01],\n",
       "       [8.38036118e-04, 9.99161964e-01],\n",
       "       [3.98617226e-01, 6.01382774e-01],\n",
       "       [9.99994031e-01, 5.96855394e-06],\n",
       "       [4.48825033e-02, 9.55117497e-01],\n",
       "       [6.06050283e-03, 9.93939497e-01],\n",
       "       [2.10601190e-02, 9.78939881e-01],\n",
       "       [9.99947427e-01, 5.25728059e-05],\n",
       "       [9.22500168e-01, 7.74998316e-02],\n",
       "       [1.30631801e-02, 9.86936820e-01],\n",
       "       [9.99999932e-01, 6.82763024e-08],\n",
       "       [7.96672963e-01, 2.03327037e-01],\n",
       "       [6.31211028e-03, 9.93687890e-01]])"
      ]
     },
     "execution_count": 39,
     "metadata": {},
     "output_type": "execute_result"
    }
   ],
   "source": [
    "r.predict_proba(x_test)  # Probability estimates.\n",
    "                         # The returned estimates for all classes are ordered by the label of classes.\n",
    "                         # For a multi_class problem, if multi_class is set to be \"multinomial\" the softmax \n",
    "                         # function is used to find the predicted probability of each class.\n",
    "                         # Else use a one-vs-rest approach, i.e calculate the probability\n",
    "                         # of each class assuming it to be positive using the logistic function.\n",
    "                         # and normalize these values across all the classes."
   ]
  },
  {
   "cell_type": "markdown",
   "metadata": {},
   "source": [
    "### Build final models for real use"
   ]
  },
  {
   "cell_type": "code",
   "execution_count": 40,
   "metadata": {},
   "outputs": [],
   "source": [
    "r = r.fit(x, y)  # Final model"
   ]
  },
  {
   "cell_type": "code",
   "execution_count": 41,
   "metadata": {},
   "outputs": [
    {
     "data": {
      "text/plain": [
       "array([ 0.21247418, -1.28325764, -1.55309015, -0.36863766,  0.57166924,\n",
       "        0.79989438, -0.70349591, -0.69121242,  0.33784808, -0.73299989,\n",
       "       -0.01813769, -0.00284682, -0.04213027, -0.61169704, -0.49498158,\n",
       "       -0.33122912,  1.06938594,  0.0480157 , -1.17302208,  0.23007159,\n",
       "        0.73208151,  2.53497631, -0.03156339, -0.50774675,  0.38172782,\n",
       "        0.72745906, -0.52948822,  1.6713795 ,  0.05999983, -1.48550781])"
      ]
     },
     "execution_count": 41,
     "metadata": {},
     "output_type": "execute_result"
    }
   ],
   "source": [
    "t = np.random.randn(x.shape[1])\n",
    "t"
   ]
  },
  {
   "cell_type": "code",
   "execution_count": 42,
   "metadata": {},
   "outputs": [
    {
     "data": {
      "text/plain": [
       "array([1])"
      ]
     },
     "execution_count": 42,
     "metadata": {},
     "output_type": "execute_result"
    }
   ],
   "source": [
    "r.predict(t.reshape(1, -1))"
   ]
  },
  {
   "cell_type": "code",
   "execution_count": 43,
   "metadata": {},
   "outputs": [
    {
     "data": {
      "text/plain": [
       "array([[0.47220053, 0.52779947]])"
      ]
     },
     "execution_count": 43,
     "metadata": {},
     "output_type": "execute_result"
    }
   ],
   "source": [
    "r.predict_proba(t.reshape(1, -1))"
   ]
  },
  {
   "cell_type": "code",
   "execution_count": null,
   "metadata": {},
   "outputs": [],
   "source": []
  }
 ],
 "metadata": {
  "kernelspec": {
   "display_name": "Python 3",
   "language": "python",
   "name": "python3"
  },
  "language_info": {
   "codemirror_mode": {
    "name": "ipython",
    "version": 3
   },
   "file_extension": ".py",
   "mimetype": "text/x-python",
   "name": "python",
   "nbconvert_exporter": "python",
   "pygments_lexer": "ipython3",
   "version": "3.6.5"
  }
 },
 "nbformat": 4,
 "nbformat_minor": 2
}
